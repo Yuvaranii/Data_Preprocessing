{
  "nbformat": 4,
  "nbformat_minor": 0,
  "metadata": {
    "colab": {
      "provenance": [],
      "authorship_tag": "ABX9TyMBjepsx039qjq3FRXoLVNu",
      "include_colab_link": true
    },
    "kernelspec": {
      "name": "python3",
      "display_name": "Python 3"
    },
    "language_info": {
      "name": "python"
    }
  },
  "cells": [
    {
      "cell_type": "markdown",
      "metadata": {
        "id": "view-in-github",
        "colab_type": "text"
      },
      "source": [
        "<a href=\"https://colab.research.google.com/github/Yuvaranii/Data_Preprocessing/blob/main/Glass_Type_Identification.ipynb\" target=\"_parent\"><img src=\"https://colab.research.google.com/assets/colab-badge.svg\" alt=\"Open In Colab\"/></a>"
      ]
    },
    {
      "cell_type": "code",
      "execution_count": 9,
      "metadata": {
        "id": "k-RSgqXqihj3"
      },
      "outputs": [],
      "source": [
        "import pandas as pd\n",
        "import numpy as np"
      ]
    },
    {
      "cell_type": "code",
      "source": [
        "URL = 'https://archive.ics.uci.edu/ml/machine-learning-databases/glass/glass.data'\n",
        "data = pd.read_csv(URL, header=None)\n",
        "data.head()"
      ],
      "metadata": {
        "colab": {
          "base_uri": "https://localhost:8080/",
          "height": 206
        },
        "id": "SVb1tnmuln_3",
        "outputId": "437551b1-1300-4314-a34a-103a114cfdd5"
      },
      "execution_count": 56,
      "outputs": [
        {
          "output_type": "execute_result",
          "data": {
            "text/plain": [
              "   0        1      2     3     4      5     6     7    8    9   10\n",
              "0   1  1.52101  13.64  4.49  1.10  71.78  0.06  8.75  0.0  0.0   1\n",
              "1   2  1.51761  13.89  3.60  1.36  72.73  0.48  7.83  0.0  0.0   1\n",
              "2   3  1.51618  13.53  3.55  1.54  72.99  0.39  7.78  0.0  0.0   1\n",
              "3   4  1.51766  13.21  3.69  1.29  72.61  0.57  8.22  0.0  0.0   1\n",
              "4   5  1.51742  13.27  3.62  1.24  73.08  0.55  8.07  0.0  0.0   1"
            ],
            "text/html": [
              "\n",
              "  <div id=\"df-5ac7059b-c7e5-4194-ac2e-67f2eaf3bd2b\">\n",
              "    <div class=\"colab-df-container\">\n",
              "      <div>\n",
              "<style scoped>\n",
              "    .dataframe tbody tr th:only-of-type {\n",
              "        vertical-align: middle;\n",
              "    }\n",
              "\n",
              "    .dataframe tbody tr th {\n",
              "        vertical-align: top;\n",
              "    }\n",
              "\n",
              "    .dataframe thead th {\n",
              "        text-align: right;\n",
              "    }\n",
              "</style>\n",
              "<table border=\"1\" class=\"dataframe\">\n",
              "  <thead>\n",
              "    <tr style=\"text-align: right;\">\n",
              "      <th></th>\n",
              "      <th>0</th>\n",
              "      <th>1</th>\n",
              "      <th>2</th>\n",
              "      <th>3</th>\n",
              "      <th>4</th>\n",
              "      <th>5</th>\n",
              "      <th>6</th>\n",
              "      <th>7</th>\n",
              "      <th>8</th>\n",
              "      <th>9</th>\n",
              "      <th>10</th>\n",
              "    </tr>\n",
              "  </thead>\n",
              "  <tbody>\n",
              "    <tr>\n",
              "      <th>0</th>\n",
              "      <td>1</td>\n",
              "      <td>1.52101</td>\n",
              "      <td>13.64</td>\n",
              "      <td>4.49</td>\n",
              "      <td>1.10</td>\n",
              "      <td>71.78</td>\n",
              "      <td>0.06</td>\n",
              "      <td>8.75</td>\n",
              "      <td>0.0</td>\n",
              "      <td>0.0</td>\n",
              "      <td>1</td>\n",
              "    </tr>\n",
              "    <tr>\n",
              "      <th>1</th>\n",
              "      <td>2</td>\n",
              "      <td>1.51761</td>\n",
              "      <td>13.89</td>\n",
              "      <td>3.60</td>\n",
              "      <td>1.36</td>\n",
              "      <td>72.73</td>\n",
              "      <td>0.48</td>\n",
              "      <td>7.83</td>\n",
              "      <td>0.0</td>\n",
              "      <td>0.0</td>\n",
              "      <td>1</td>\n",
              "    </tr>\n",
              "    <tr>\n",
              "      <th>2</th>\n",
              "      <td>3</td>\n",
              "      <td>1.51618</td>\n",
              "      <td>13.53</td>\n",
              "      <td>3.55</td>\n",
              "      <td>1.54</td>\n",
              "      <td>72.99</td>\n",
              "      <td>0.39</td>\n",
              "      <td>7.78</td>\n",
              "      <td>0.0</td>\n",
              "      <td>0.0</td>\n",
              "      <td>1</td>\n",
              "    </tr>\n",
              "    <tr>\n",
              "      <th>3</th>\n",
              "      <td>4</td>\n",
              "      <td>1.51766</td>\n",
              "      <td>13.21</td>\n",
              "      <td>3.69</td>\n",
              "      <td>1.29</td>\n",
              "      <td>72.61</td>\n",
              "      <td>0.57</td>\n",
              "      <td>8.22</td>\n",
              "      <td>0.0</td>\n",
              "      <td>0.0</td>\n",
              "      <td>1</td>\n",
              "    </tr>\n",
              "    <tr>\n",
              "      <th>4</th>\n",
              "      <td>5</td>\n",
              "      <td>1.51742</td>\n",
              "      <td>13.27</td>\n",
              "      <td>3.62</td>\n",
              "      <td>1.24</td>\n",
              "      <td>73.08</td>\n",
              "      <td>0.55</td>\n",
              "      <td>8.07</td>\n",
              "      <td>0.0</td>\n",
              "      <td>0.0</td>\n",
              "      <td>1</td>\n",
              "    </tr>\n",
              "  </tbody>\n",
              "</table>\n",
              "</div>\n",
              "      <button class=\"colab-df-convert\" onclick=\"convertToInteractive('df-5ac7059b-c7e5-4194-ac2e-67f2eaf3bd2b')\"\n",
              "              title=\"Convert this dataframe to an interactive table.\"\n",
              "              style=\"display:none;\">\n",
              "        \n",
              "  <svg xmlns=\"http://www.w3.org/2000/svg\" height=\"24px\"viewBox=\"0 0 24 24\"\n",
              "       width=\"24px\">\n",
              "    <path d=\"M0 0h24v24H0V0z\" fill=\"none\"/>\n",
              "    <path d=\"M18.56 5.44l.94 2.06.94-2.06 2.06-.94-2.06-.94-.94-2.06-.94 2.06-2.06.94zm-11 1L8.5 8.5l.94-2.06 2.06-.94-2.06-.94L8.5 2.5l-.94 2.06-2.06.94zm10 10l.94 2.06.94-2.06 2.06-.94-2.06-.94-.94-2.06-.94 2.06-2.06.94z\"/><path d=\"M17.41 7.96l-1.37-1.37c-.4-.4-.92-.59-1.43-.59-.52 0-1.04.2-1.43.59L10.3 9.45l-7.72 7.72c-.78.78-.78 2.05 0 2.83L4 21.41c.39.39.9.59 1.41.59.51 0 1.02-.2 1.41-.59l7.78-7.78 2.81-2.81c.8-.78.8-2.07 0-2.86zM5.41 20L4 18.59l7.72-7.72 1.47 1.35L5.41 20z\"/>\n",
              "  </svg>\n",
              "      </button>\n",
              "      \n",
              "  <style>\n",
              "    .colab-df-container {\n",
              "      display:flex;\n",
              "      flex-wrap:wrap;\n",
              "      gap: 12px;\n",
              "    }\n",
              "\n",
              "    .colab-df-convert {\n",
              "      background-color: #E8F0FE;\n",
              "      border: none;\n",
              "      border-radius: 50%;\n",
              "      cursor: pointer;\n",
              "      display: none;\n",
              "      fill: #1967D2;\n",
              "      height: 32px;\n",
              "      padding: 0 0 0 0;\n",
              "      width: 32px;\n",
              "    }\n",
              "\n",
              "    .colab-df-convert:hover {\n",
              "      background-color: #E2EBFA;\n",
              "      box-shadow: 0px 1px 2px rgba(60, 64, 67, 0.3), 0px 1px 3px 1px rgba(60, 64, 67, 0.15);\n",
              "      fill: #174EA6;\n",
              "    }\n",
              "\n",
              "    [theme=dark] .colab-df-convert {\n",
              "      background-color: #3B4455;\n",
              "      fill: #D2E3FC;\n",
              "    }\n",
              "\n",
              "    [theme=dark] .colab-df-convert:hover {\n",
              "      background-color: #434B5C;\n",
              "      box-shadow: 0px 1px 3px 1px rgba(0, 0, 0, 0.15);\n",
              "      filter: drop-shadow(0px 1px 2px rgba(0, 0, 0, 0.3));\n",
              "      fill: #FFFFFF;\n",
              "    }\n",
              "  </style>\n",
              "\n",
              "      <script>\n",
              "        const buttonEl =\n",
              "          document.querySelector('#df-5ac7059b-c7e5-4194-ac2e-67f2eaf3bd2b button.colab-df-convert');\n",
              "        buttonEl.style.display =\n",
              "          google.colab.kernel.accessAllowed ? 'block' : 'none';\n",
              "\n",
              "        async function convertToInteractive(key) {\n",
              "          const element = document.querySelector('#df-5ac7059b-c7e5-4194-ac2e-67f2eaf3bd2b');\n",
              "          const dataTable =\n",
              "            await google.colab.kernel.invokeFunction('convertToInteractive',\n",
              "                                                     [key], {});\n",
              "          if (!dataTable) return;\n",
              "\n",
              "          const docLinkHtml = 'Like what you see? Visit the ' +\n",
              "            '<a target=\"_blank\" href=https://colab.research.google.com/notebooks/data_table.ipynb>data table notebook</a>'\n",
              "            + ' to learn more about interactive tables.';\n",
              "          element.innerHTML = '';\n",
              "          dataTable['output_type'] = 'display_data';\n",
              "          await google.colab.output.renderOutput(dataTable, element);\n",
              "          const docLink = document.createElement('div');\n",
              "          docLink.innerHTML = docLinkHtml;\n",
              "          element.appendChild(docLink);\n",
              "        }\n",
              "      </script>\n",
              "    </div>\n",
              "  </div>\n",
              "  "
            ]
          },
          "metadata": {},
          "execution_count": 56
        }
      ]
    },
    {
      "cell_type": "code",
      "source": [
        "data.shape"
      ],
      "metadata": {
        "colab": {
          "base_uri": "https://localhost:8080/"
        },
        "id": "4BbvJm6V7MEl",
        "outputId": "b3f4d8c8-bb11-426f-a432-ed891e4ebcef"
      },
      "execution_count": 57,
      "outputs": [
        {
          "output_type": "execute_result",
          "data": {
            "text/plain": [
              "(214, 11)"
            ]
          },
          "metadata": {},
          "execution_count": 57
        }
      ]
    },
    {
      "cell_type": "code",
      "source": [
        "data.duplicated().value_counts()"
      ],
      "metadata": {
        "id": "z6d3lu2g7SRk",
        "outputId": "49779562-5998-417f-e0a7-e977fee87684",
        "colab": {
          "base_uri": "https://localhost:8080/"
        }
      },
      "execution_count": 58,
      "outputs": [
        {
          "output_type": "execute_result",
          "data": {
            "text/plain": [
              "False    214\n",
              "dtype: int64"
            ]
          },
          "metadata": {},
          "execution_count": 58
        }
      ]
    },
    {
      "cell_type": "code",
      "source": [
        "data.isnull().sum()"
      ],
      "metadata": {
        "colab": {
          "base_uri": "https://localhost:8080/"
        },
        "id": "eHQsern_8W1D",
        "outputId": "f04e56fd-7940-4b54-c5a6-2ffc45feaddb"
      },
      "execution_count": 59,
      "outputs": [
        {
          "output_type": "execute_result",
          "data": {
            "text/plain": [
              "0     0\n",
              "1     0\n",
              "2     0\n",
              "3     0\n",
              "4     0\n",
              "5     0\n",
              "6     0\n",
              "7     0\n",
              "8     0\n",
              "9     0\n",
              "10    0\n",
              "dtype: int64"
            ]
          },
          "metadata": {},
          "execution_count": 59
        }
      ]
    },
    {
      "cell_type": "code",
      "source": [
        "data.describe()"
      ],
      "metadata": {
        "colab": {
          "base_uri": "https://localhost:8080/",
          "height": 300
        },
        "id": "Vv0Q3Ql39OZ1",
        "outputId": "c056ccc5-d12e-4eb6-e4cc-b480f2e62432"
      },
      "execution_count": 60,
      "outputs": [
        {
          "output_type": "execute_result",
          "data": {
            "text/plain": [
              "               0           1           2           3           4           5   \\\n",
              "count  214.000000  214.000000  214.000000  214.000000  214.000000  214.000000   \n",
              "mean   107.500000    1.518365   13.407850    2.684533    1.444907   72.650935   \n",
              "std     61.920648    0.003037    0.816604    1.442408    0.499270    0.774546   \n",
              "min      1.000000    1.511150   10.730000    0.000000    0.290000   69.810000   \n",
              "25%     54.250000    1.516522   12.907500    2.115000    1.190000   72.280000   \n",
              "50%    107.500000    1.517680   13.300000    3.480000    1.360000   72.790000   \n",
              "75%    160.750000    1.519157   13.825000    3.600000    1.630000   73.087500   \n",
              "max    214.000000    1.533930   17.380000    4.490000    3.500000   75.410000   \n",
              "\n",
              "               6           7           8           9           10  \n",
              "count  214.000000  214.000000  214.000000  214.000000  214.000000  \n",
              "mean     0.497056    8.956963    0.175047    0.057009    2.780374  \n",
              "std      0.652192    1.423153    0.497219    0.097439    2.103739  \n",
              "min      0.000000    5.430000    0.000000    0.000000    1.000000  \n",
              "25%      0.122500    8.240000    0.000000    0.000000    1.000000  \n",
              "50%      0.555000    8.600000    0.000000    0.000000    2.000000  \n",
              "75%      0.610000    9.172500    0.000000    0.100000    3.000000  \n",
              "max      6.210000   16.190000    3.150000    0.510000    7.000000  "
            ],
            "text/html": [
              "\n",
              "  <div id=\"df-8a2d3dfa-bf0e-4132-a59f-767c9bc3a2c3\">\n",
              "    <div class=\"colab-df-container\">\n",
              "      <div>\n",
              "<style scoped>\n",
              "    .dataframe tbody tr th:only-of-type {\n",
              "        vertical-align: middle;\n",
              "    }\n",
              "\n",
              "    .dataframe tbody tr th {\n",
              "        vertical-align: top;\n",
              "    }\n",
              "\n",
              "    .dataframe thead th {\n",
              "        text-align: right;\n",
              "    }\n",
              "</style>\n",
              "<table border=\"1\" class=\"dataframe\">\n",
              "  <thead>\n",
              "    <tr style=\"text-align: right;\">\n",
              "      <th></th>\n",
              "      <th>0</th>\n",
              "      <th>1</th>\n",
              "      <th>2</th>\n",
              "      <th>3</th>\n",
              "      <th>4</th>\n",
              "      <th>5</th>\n",
              "      <th>6</th>\n",
              "      <th>7</th>\n",
              "      <th>8</th>\n",
              "      <th>9</th>\n",
              "      <th>10</th>\n",
              "    </tr>\n",
              "  </thead>\n",
              "  <tbody>\n",
              "    <tr>\n",
              "      <th>count</th>\n",
              "      <td>214.000000</td>\n",
              "      <td>214.000000</td>\n",
              "      <td>214.000000</td>\n",
              "      <td>214.000000</td>\n",
              "      <td>214.000000</td>\n",
              "      <td>214.000000</td>\n",
              "      <td>214.000000</td>\n",
              "      <td>214.000000</td>\n",
              "      <td>214.000000</td>\n",
              "      <td>214.000000</td>\n",
              "      <td>214.000000</td>\n",
              "    </tr>\n",
              "    <tr>\n",
              "      <th>mean</th>\n",
              "      <td>107.500000</td>\n",
              "      <td>1.518365</td>\n",
              "      <td>13.407850</td>\n",
              "      <td>2.684533</td>\n",
              "      <td>1.444907</td>\n",
              "      <td>72.650935</td>\n",
              "      <td>0.497056</td>\n",
              "      <td>8.956963</td>\n",
              "      <td>0.175047</td>\n",
              "      <td>0.057009</td>\n",
              "      <td>2.780374</td>\n",
              "    </tr>\n",
              "    <tr>\n",
              "      <th>std</th>\n",
              "      <td>61.920648</td>\n",
              "      <td>0.003037</td>\n",
              "      <td>0.816604</td>\n",
              "      <td>1.442408</td>\n",
              "      <td>0.499270</td>\n",
              "      <td>0.774546</td>\n",
              "      <td>0.652192</td>\n",
              "      <td>1.423153</td>\n",
              "      <td>0.497219</td>\n",
              "      <td>0.097439</td>\n",
              "      <td>2.103739</td>\n",
              "    </tr>\n",
              "    <tr>\n",
              "      <th>min</th>\n",
              "      <td>1.000000</td>\n",
              "      <td>1.511150</td>\n",
              "      <td>10.730000</td>\n",
              "      <td>0.000000</td>\n",
              "      <td>0.290000</td>\n",
              "      <td>69.810000</td>\n",
              "      <td>0.000000</td>\n",
              "      <td>5.430000</td>\n",
              "      <td>0.000000</td>\n",
              "      <td>0.000000</td>\n",
              "      <td>1.000000</td>\n",
              "    </tr>\n",
              "    <tr>\n",
              "      <th>25%</th>\n",
              "      <td>54.250000</td>\n",
              "      <td>1.516522</td>\n",
              "      <td>12.907500</td>\n",
              "      <td>2.115000</td>\n",
              "      <td>1.190000</td>\n",
              "      <td>72.280000</td>\n",
              "      <td>0.122500</td>\n",
              "      <td>8.240000</td>\n",
              "      <td>0.000000</td>\n",
              "      <td>0.000000</td>\n",
              "      <td>1.000000</td>\n",
              "    </tr>\n",
              "    <tr>\n",
              "      <th>50%</th>\n",
              "      <td>107.500000</td>\n",
              "      <td>1.517680</td>\n",
              "      <td>13.300000</td>\n",
              "      <td>3.480000</td>\n",
              "      <td>1.360000</td>\n",
              "      <td>72.790000</td>\n",
              "      <td>0.555000</td>\n",
              "      <td>8.600000</td>\n",
              "      <td>0.000000</td>\n",
              "      <td>0.000000</td>\n",
              "      <td>2.000000</td>\n",
              "    </tr>\n",
              "    <tr>\n",
              "      <th>75%</th>\n",
              "      <td>160.750000</td>\n",
              "      <td>1.519157</td>\n",
              "      <td>13.825000</td>\n",
              "      <td>3.600000</td>\n",
              "      <td>1.630000</td>\n",
              "      <td>73.087500</td>\n",
              "      <td>0.610000</td>\n",
              "      <td>9.172500</td>\n",
              "      <td>0.000000</td>\n",
              "      <td>0.100000</td>\n",
              "      <td>3.000000</td>\n",
              "    </tr>\n",
              "    <tr>\n",
              "      <th>max</th>\n",
              "      <td>214.000000</td>\n",
              "      <td>1.533930</td>\n",
              "      <td>17.380000</td>\n",
              "      <td>4.490000</td>\n",
              "      <td>3.500000</td>\n",
              "      <td>75.410000</td>\n",
              "      <td>6.210000</td>\n",
              "      <td>16.190000</td>\n",
              "      <td>3.150000</td>\n",
              "      <td>0.510000</td>\n",
              "      <td>7.000000</td>\n",
              "    </tr>\n",
              "  </tbody>\n",
              "</table>\n",
              "</div>\n",
              "      <button class=\"colab-df-convert\" onclick=\"convertToInteractive('df-8a2d3dfa-bf0e-4132-a59f-767c9bc3a2c3')\"\n",
              "              title=\"Convert this dataframe to an interactive table.\"\n",
              "              style=\"display:none;\">\n",
              "        \n",
              "  <svg xmlns=\"http://www.w3.org/2000/svg\" height=\"24px\"viewBox=\"0 0 24 24\"\n",
              "       width=\"24px\">\n",
              "    <path d=\"M0 0h24v24H0V0z\" fill=\"none\"/>\n",
              "    <path d=\"M18.56 5.44l.94 2.06.94-2.06 2.06-.94-2.06-.94-.94-2.06-.94 2.06-2.06.94zm-11 1L8.5 8.5l.94-2.06 2.06-.94-2.06-.94L8.5 2.5l-.94 2.06-2.06.94zm10 10l.94 2.06.94-2.06 2.06-.94-2.06-.94-.94-2.06-.94 2.06-2.06.94z\"/><path d=\"M17.41 7.96l-1.37-1.37c-.4-.4-.92-.59-1.43-.59-.52 0-1.04.2-1.43.59L10.3 9.45l-7.72 7.72c-.78.78-.78 2.05 0 2.83L4 21.41c.39.39.9.59 1.41.59.51 0 1.02-.2 1.41-.59l7.78-7.78 2.81-2.81c.8-.78.8-2.07 0-2.86zM5.41 20L4 18.59l7.72-7.72 1.47 1.35L5.41 20z\"/>\n",
              "  </svg>\n",
              "      </button>\n",
              "      \n",
              "  <style>\n",
              "    .colab-df-container {\n",
              "      display:flex;\n",
              "      flex-wrap:wrap;\n",
              "      gap: 12px;\n",
              "    }\n",
              "\n",
              "    .colab-df-convert {\n",
              "      background-color: #E8F0FE;\n",
              "      border: none;\n",
              "      border-radius: 50%;\n",
              "      cursor: pointer;\n",
              "      display: none;\n",
              "      fill: #1967D2;\n",
              "      height: 32px;\n",
              "      padding: 0 0 0 0;\n",
              "      width: 32px;\n",
              "    }\n",
              "\n",
              "    .colab-df-convert:hover {\n",
              "      background-color: #E2EBFA;\n",
              "      box-shadow: 0px 1px 2px rgba(60, 64, 67, 0.3), 0px 1px 3px 1px rgba(60, 64, 67, 0.15);\n",
              "      fill: #174EA6;\n",
              "    }\n",
              "\n",
              "    [theme=dark] .colab-df-convert {\n",
              "      background-color: #3B4455;\n",
              "      fill: #D2E3FC;\n",
              "    }\n",
              "\n",
              "    [theme=dark] .colab-df-convert:hover {\n",
              "      background-color: #434B5C;\n",
              "      box-shadow: 0px 1px 3px 1px rgba(0, 0, 0, 0.15);\n",
              "      filter: drop-shadow(0px 1px 2px rgba(0, 0, 0, 0.3));\n",
              "      fill: #FFFFFF;\n",
              "    }\n",
              "  </style>\n",
              "\n",
              "      <script>\n",
              "        const buttonEl =\n",
              "          document.querySelector('#df-8a2d3dfa-bf0e-4132-a59f-767c9bc3a2c3 button.colab-df-convert');\n",
              "        buttonEl.style.display =\n",
              "          google.colab.kernel.accessAllowed ? 'block' : 'none';\n",
              "\n",
              "        async function convertToInteractive(key) {\n",
              "          const element = document.querySelector('#df-8a2d3dfa-bf0e-4132-a59f-767c9bc3a2c3');\n",
              "          const dataTable =\n",
              "            await google.colab.kernel.invokeFunction('convertToInteractive',\n",
              "                                                     [key], {});\n",
              "          if (!dataTable) return;\n",
              "\n",
              "          const docLinkHtml = 'Like what you see? Visit the ' +\n",
              "            '<a target=\"_blank\" href=https://colab.research.google.com/notebooks/data_table.ipynb>data table notebook</a>'\n",
              "            + ' to learn more about interactive tables.';\n",
              "          element.innerHTML = '';\n",
              "          dataTable['output_type'] = 'display_data';\n",
              "          await google.colab.output.renderOutput(dataTable, element);\n",
              "          const docLink = document.createElement('div');\n",
              "          docLink.innerHTML = docLinkHtml;\n",
              "          element.appendChild(docLink);\n",
              "        }\n",
              "      </script>\n",
              "    </div>\n",
              "  </div>\n",
              "  "
            ]
          },
          "metadata": {},
          "execution_count": 60
        }
      ]
    },
    {
      "cell_type": "code",
      "source": [
        "data.nunique()"
      ],
      "metadata": {
        "colab": {
          "base_uri": "https://localhost:8080/"
        },
        "id": "tllZJJdj_DKU",
        "outputId": "40fe0a7c-b12d-4c81-84b0-f1bb5ee22e9c"
      },
      "execution_count": 61,
      "outputs": [
        {
          "output_type": "execute_result",
          "data": {
            "text/plain": [
              "0     214\n",
              "1     178\n",
              "2     142\n",
              "3      94\n",
              "4     118\n",
              "5     133\n",
              "6      65\n",
              "7     143\n",
              "8      34\n",
              "9      32\n",
              "10      6\n",
              "dtype: int64"
            ]
          },
          "metadata": {},
          "execution_count": 61
        }
      ]
    },
    {
      "cell_type": "code",
      "source": [
        "Columns = ['Id','RI','Na','Mg','Al','Si','K','Ca','Ba','Fe','glass_type']\n",
        "data.columns = Columns"
      ],
      "metadata": {
        "id": "SPSqu9oDBaau"
      },
      "execution_count": 62,
      "outputs": []
    },
    {
      "cell_type": "code",
      "source": [
        "data.head()"
      ],
      "metadata": {
        "colab": {
          "base_uri": "https://localhost:8080/",
          "height": 206
        },
        "id": "2Ff4FR79BrpK",
        "outputId": "49ef75a1-c811-43ca-f0f3-90cad3ddfb93"
      },
      "execution_count": 63,
      "outputs": [
        {
          "output_type": "execute_result",
          "data": {
            "text/plain": [
              "   Id       RI     Na    Mg    Al     Si     K    Ca   Ba   Fe  glass_type\n",
              "0   1  1.52101  13.64  4.49  1.10  71.78  0.06  8.75  0.0  0.0           1\n",
              "1   2  1.51761  13.89  3.60  1.36  72.73  0.48  7.83  0.0  0.0           1\n",
              "2   3  1.51618  13.53  3.55  1.54  72.99  0.39  7.78  0.0  0.0           1\n",
              "3   4  1.51766  13.21  3.69  1.29  72.61  0.57  8.22  0.0  0.0           1\n",
              "4   5  1.51742  13.27  3.62  1.24  73.08  0.55  8.07  0.0  0.0           1"
            ],
            "text/html": [
              "\n",
              "  <div id=\"df-daea6359-f8bd-494b-9b05-5f319d3fb1e8\">\n",
              "    <div class=\"colab-df-container\">\n",
              "      <div>\n",
              "<style scoped>\n",
              "    .dataframe tbody tr th:only-of-type {\n",
              "        vertical-align: middle;\n",
              "    }\n",
              "\n",
              "    .dataframe tbody tr th {\n",
              "        vertical-align: top;\n",
              "    }\n",
              "\n",
              "    .dataframe thead th {\n",
              "        text-align: right;\n",
              "    }\n",
              "</style>\n",
              "<table border=\"1\" class=\"dataframe\">\n",
              "  <thead>\n",
              "    <tr style=\"text-align: right;\">\n",
              "      <th></th>\n",
              "      <th>Id</th>\n",
              "      <th>RI</th>\n",
              "      <th>Na</th>\n",
              "      <th>Mg</th>\n",
              "      <th>Al</th>\n",
              "      <th>Si</th>\n",
              "      <th>K</th>\n",
              "      <th>Ca</th>\n",
              "      <th>Ba</th>\n",
              "      <th>Fe</th>\n",
              "      <th>glass_type</th>\n",
              "    </tr>\n",
              "  </thead>\n",
              "  <tbody>\n",
              "    <tr>\n",
              "      <th>0</th>\n",
              "      <td>1</td>\n",
              "      <td>1.52101</td>\n",
              "      <td>13.64</td>\n",
              "      <td>4.49</td>\n",
              "      <td>1.10</td>\n",
              "      <td>71.78</td>\n",
              "      <td>0.06</td>\n",
              "      <td>8.75</td>\n",
              "      <td>0.0</td>\n",
              "      <td>0.0</td>\n",
              "      <td>1</td>\n",
              "    </tr>\n",
              "    <tr>\n",
              "      <th>1</th>\n",
              "      <td>2</td>\n",
              "      <td>1.51761</td>\n",
              "      <td>13.89</td>\n",
              "      <td>3.60</td>\n",
              "      <td>1.36</td>\n",
              "      <td>72.73</td>\n",
              "      <td>0.48</td>\n",
              "      <td>7.83</td>\n",
              "      <td>0.0</td>\n",
              "      <td>0.0</td>\n",
              "      <td>1</td>\n",
              "    </tr>\n",
              "    <tr>\n",
              "      <th>2</th>\n",
              "      <td>3</td>\n",
              "      <td>1.51618</td>\n",
              "      <td>13.53</td>\n",
              "      <td>3.55</td>\n",
              "      <td>1.54</td>\n",
              "      <td>72.99</td>\n",
              "      <td>0.39</td>\n",
              "      <td>7.78</td>\n",
              "      <td>0.0</td>\n",
              "      <td>0.0</td>\n",
              "      <td>1</td>\n",
              "    </tr>\n",
              "    <tr>\n",
              "      <th>3</th>\n",
              "      <td>4</td>\n",
              "      <td>1.51766</td>\n",
              "      <td>13.21</td>\n",
              "      <td>3.69</td>\n",
              "      <td>1.29</td>\n",
              "      <td>72.61</td>\n",
              "      <td>0.57</td>\n",
              "      <td>8.22</td>\n",
              "      <td>0.0</td>\n",
              "      <td>0.0</td>\n",
              "      <td>1</td>\n",
              "    </tr>\n",
              "    <tr>\n",
              "      <th>4</th>\n",
              "      <td>5</td>\n",
              "      <td>1.51742</td>\n",
              "      <td>13.27</td>\n",
              "      <td>3.62</td>\n",
              "      <td>1.24</td>\n",
              "      <td>73.08</td>\n",
              "      <td>0.55</td>\n",
              "      <td>8.07</td>\n",
              "      <td>0.0</td>\n",
              "      <td>0.0</td>\n",
              "      <td>1</td>\n",
              "    </tr>\n",
              "  </tbody>\n",
              "</table>\n",
              "</div>\n",
              "      <button class=\"colab-df-convert\" onclick=\"convertToInteractive('df-daea6359-f8bd-494b-9b05-5f319d3fb1e8')\"\n",
              "              title=\"Convert this dataframe to an interactive table.\"\n",
              "              style=\"display:none;\">\n",
              "        \n",
              "  <svg xmlns=\"http://www.w3.org/2000/svg\" height=\"24px\"viewBox=\"0 0 24 24\"\n",
              "       width=\"24px\">\n",
              "    <path d=\"M0 0h24v24H0V0z\" fill=\"none\"/>\n",
              "    <path d=\"M18.56 5.44l.94 2.06.94-2.06 2.06-.94-2.06-.94-.94-2.06-.94 2.06-2.06.94zm-11 1L8.5 8.5l.94-2.06 2.06-.94-2.06-.94L8.5 2.5l-.94 2.06-2.06.94zm10 10l.94 2.06.94-2.06 2.06-.94-2.06-.94-.94-2.06-.94 2.06-2.06.94z\"/><path d=\"M17.41 7.96l-1.37-1.37c-.4-.4-.92-.59-1.43-.59-.52 0-1.04.2-1.43.59L10.3 9.45l-7.72 7.72c-.78.78-.78 2.05 0 2.83L4 21.41c.39.39.9.59 1.41.59.51 0 1.02-.2 1.41-.59l7.78-7.78 2.81-2.81c.8-.78.8-2.07 0-2.86zM5.41 20L4 18.59l7.72-7.72 1.47 1.35L5.41 20z\"/>\n",
              "  </svg>\n",
              "      </button>\n",
              "      \n",
              "  <style>\n",
              "    .colab-df-container {\n",
              "      display:flex;\n",
              "      flex-wrap:wrap;\n",
              "      gap: 12px;\n",
              "    }\n",
              "\n",
              "    .colab-df-convert {\n",
              "      background-color: #E8F0FE;\n",
              "      border: none;\n",
              "      border-radius: 50%;\n",
              "      cursor: pointer;\n",
              "      display: none;\n",
              "      fill: #1967D2;\n",
              "      height: 32px;\n",
              "      padding: 0 0 0 0;\n",
              "      width: 32px;\n",
              "    }\n",
              "\n",
              "    .colab-df-convert:hover {\n",
              "      background-color: #E2EBFA;\n",
              "      box-shadow: 0px 1px 2px rgba(60, 64, 67, 0.3), 0px 1px 3px 1px rgba(60, 64, 67, 0.15);\n",
              "      fill: #174EA6;\n",
              "    }\n",
              "\n",
              "    [theme=dark] .colab-df-convert {\n",
              "      background-color: #3B4455;\n",
              "      fill: #D2E3FC;\n",
              "    }\n",
              "\n",
              "    [theme=dark] .colab-df-convert:hover {\n",
              "      background-color: #434B5C;\n",
              "      box-shadow: 0px 1px 3px 1px rgba(0, 0, 0, 0.15);\n",
              "      filter: drop-shadow(0px 1px 2px rgba(0, 0, 0, 0.3));\n",
              "      fill: #FFFFFF;\n",
              "    }\n",
              "  </style>\n",
              "\n",
              "      <script>\n",
              "        const buttonEl =\n",
              "          document.querySelector('#df-daea6359-f8bd-494b-9b05-5f319d3fb1e8 button.colab-df-convert');\n",
              "        buttonEl.style.display =\n",
              "          google.colab.kernel.accessAllowed ? 'block' : 'none';\n",
              "\n",
              "        async function convertToInteractive(key) {\n",
              "          const element = document.querySelector('#df-daea6359-f8bd-494b-9b05-5f319d3fb1e8');\n",
              "          const dataTable =\n",
              "            await google.colab.kernel.invokeFunction('convertToInteractive',\n",
              "                                                     [key], {});\n",
              "          if (!dataTable) return;\n",
              "\n",
              "          const docLinkHtml = 'Like what you see? Visit the ' +\n",
              "            '<a target=\"_blank\" href=https://colab.research.google.com/notebooks/data_table.ipynb>data table notebook</a>'\n",
              "            + ' to learn more about interactive tables.';\n",
              "          element.innerHTML = '';\n",
              "          dataTable['output_type'] = 'display_data';\n",
              "          await google.colab.output.renderOutput(dataTable, element);\n",
              "          const docLink = document.createElement('div');\n",
              "          docLink.innerHTML = docLinkHtml;\n",
              "          element.appendChild(docLink);\n",
              "        }\n",
              "      </script>\n",
              "    </div>\n",
              "  </div>\n",
              "  "
            ]
          },
          "metadata": {},
          "execution_count": 63
        }
      ]
    },
    {
      "cell_type": "code",
      "source": [
        "data.drop(\"Id\", axis = 1, inplace = True)"
      ],
      "metadata": {
        "id": "iRsa6APzB1Rl"
      },
      "execution_count": 64,
      "outputs": []
    },
    {
      "cell_type": "code",
      "source": [
        "X = data[[\"RI\",\t\"Na\",\t\"Mg\",\t\"Al\",\t\"Si\",\t\"K\",\t\"Ca\",\t\"Ba\",\t\"Fe\"]]\n",
        "Y = data[\"glass_type\"]"
      ],
      "metadata": {
        "id": "1__736KXCDMr"
      },
      "execution_count": 65,
      "outputs": []
    },
    {
      "cell_type": "code",
      "source": [
        "from sklearn.model_selection import train_test_split\n",
        "X_train, X_test, Y_train, Y_test = train_test_split(X,Y, test_size = 0.2, random_state = 42)"
      ],
      "metadata": {
        "id": "joMNG1lYDx7b"
      },
      "execution_count": 69,
      "outputs": []
    },
    {
      "cell_type": "code",
      "source": [
        "from sklearn.preprocessing import StandardScaler\n",
        "sc = StandardScaler()\n",
        "X_train = sc.fit_transform(X_train)\n",
        "X_test = sc.transform(X_test)"
      ],
      "metadata": {
        "id": "VU7mLYgUDzK0"
      },
      "execution_count": 70,
      "outputs": []
    },
    {
      "cell_type": "code",
      "source": [
        "from sklearn.neighbors import KNeighborsClassifier\n",
        "knn = KNeighborsClassifier(n_neighbors=5)\n",
        "Res = knn.fit(X_train, Y_train)"
      ],
      "metadata": {
        "id": "rCIewUyRD5ag"
      },
      "execution_count": 79,
      "outputs": []
    },
    {
      "cell_type": "code",
      "source": [
        "Res.score(X_test, Y_test)"
      ],
      "metadata": {
        "colab": {
          "base_uri": "https://localhost:8080/"
        },
        "id": "4FIJwnSJD9US",
        "outputId": "1bec21fc-de1f-46a9-bc96-d84dfea1623b"
      },
      "execution_count": 80,
      "outputs": [
        {
          "output_type": "execute_result",
          "data": {
            "text/plain": [
              "0.6976744186046512"
            ]
          },
          "metadata": {},
          "execution_count": 80
        }
      ]
    },
    {
      "cell_type": "code",
      "source": [
        "from sklearn.metrics import confusion_matrix\n",
        "Y_pred = knn.predict(X_test)\n",
        "CM = confusion_matrix(Y_test, Y_pred)\n",
        "CM"
      ],
      "metadata": {
        "colab": {
          "base_uri": "https://localhost:8080/"
        },
        "id": "3rJIFN2cFN5W",
        "outputId": "b065ad81-6a83-40fe-ff98-470b716ebeeb"
      },
      "execution_count": 81,
      "outputs": [
        {
          "output_type": "execute_result",
          "data": {
            "text/plain": [
              "array([[10,  1,  0,  0,  0,  0],\n",
              "       [ 5,  8,  0,  1,  0,  0],\n",
              "       [ 1,  2,  0,  0,  0,  0],\n",
              "       [ 0,  2,  0,  1,  0,  1],\n",
              "       [ 0,  0,  0,  0,  3,  0],\n",
              "       [ 0,  0,  0,  0,  0,  8]])"
            ]
          },
          "metadata": {},
          "execution_count": 81
        }
      ]
    },
    {
      "cell_type": "code",
      "source": [
        "import matplotlib.pyplot as plt\n",
        "%matplotlib inline\n",
        "import seaborn as sns\n",
        "sns.heatmap(CM, annot = True)\n",
        "plt.xlabel(\"Predicted\")\n",
        "plt.ylabel(\"Truth\")"
      ],
      "metadata": {
        "colab": {
          "base_uri": "https://localhost:8080/",
          "height": 301
        },
        "id": "Z8Xd5eF5FOx1",
        "outputId": "4e0f6787-2096-49d0-bf8a-aa44d294de33"
      },
      "execution_count": 82,
      "outputs": [
        {
          "output_type": "execute_result",
          "data": {
            "text/plain": [
              "Text(33.0, 0.5, 'Truth')"
            ]
          },
          "metadata": {},
          "execution_count": 82
        },
        {
          "output_type": "display_data",
          "data": {
            "text/plain": [
              "<Figure size 432x288 with 2 Axes>"
            ],
            "image/png": "[encoded data removed]"
          },
          "metadata": {
            "needs_background": "light"
          }
        }
      ]
    },
    {
      "cell_type": "markdown",
      "source": [
        "![image.png](data:image/png;base64,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)\n",
        "\n",
        "![image.png](data:image/png;base64,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)"
      ],
      "metadata": {
        "id": "_-2leqylF7Kc"
      }
    },
    {
      "cell_type": "markdown",
      "source": [
        "![image.png](data:image/png;base64,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)\n",
        "\n",
        "![image.png](data:image/png;base64,iVBORw0KGgoAAAANSUhEUgAAAOwAAABQCAIAAACVuQ5NAAAWXElEQVR4nO2dyW4jVRfHTw12laeM3dBCggULHuB7ERYI2PIIrOEB4Bl4BcQGiR1LJNZISLBgAYjuptOJ43ioKtd0v8VPdXRx4nISl5O25f8iclzlW3c4de6Zr2OMkR2FMcZxHBEpisJ1XcdxsixrtVp5nhtjXNc1xvi+LyJ5nvNhj22Es8NEXJal67r2ByVrxXw+9zxvT8FbDfexO7Ap8HKWZVmWpf7rOM5oNOKGNE2zLAuCYE/B245d5sQiUhSFMcbzvKIoyrJstVrKidM0bbfbIlKWZZ7nfN5jG7HjTMip4HleWZZQcJqmRVF0Oh0Rgbj3FLzV2HFxQkSQhpUBF0XRarWg4CRJXNdttVqIHHtsKXaciI0xEGhRFHEci4jnedPplKue50HcV1dXj9rZPdbCjosTxhisaUmSTKfTVqv1119/ff/992+99dann37a7XaTJAnD8Pj4+LF7usf9sSOKnRof9F9bfnAc57vvvvvkk0++/PLL77777vfff3///fc/+OCDH374wXXdvZF427Gz4kSWZdjX4MQ//vhju93++uuvf/vtt/F4/Nlnn/3666+u66Zp6vt+FEWP3d897o+dJWK8dJjYROSbb7758MMPp9PpfD4fDAbD4XA6nRZFMZ/PRaTb7T52f/e4P3Z2Gw3DMI7joij6/X6SJK1W66OPPgrDUEQmk8lPP/00Go2KohgMBmK59PbYRuwsEZdliR1NRH7++WfP8/73v/9dXV31+33f93/55ZcwDNvtNraLPQVvNXZ28TCoTadTEfntt9+SJHnnnXcODw+NMZPJpCiKb7/9VkTKssT38cjd3WMN7L51Apey4zhIwEEQfPXVV1988YUxRj3PewPFVmNnObGIRFGUZZnv+8aYzz//vCiKIAhE5I8//vj4448JpcDtvKfgrcaOcGIChaMoarVarVZr5f2w5CiKHMfpdDrXQzT32CJsPRGXZYnXLY7jXq8nIpDmMuZaFEWapgcHB+Px+ODgQKxwtj22FFtPxDBRY0wURd1u1xgzn89hrsvuV1tEkiRRFJ2cnOxl4q3G1hMx9Id4UBRFURREDy9jrtzw4sWLp0+f3kbw2OPNx9YTsYjM53NjTBiGyBV8WWM18zwP/p1l2eHhYRzHeZ57nvdQ/d2jYezCHjqbzU5OTkSEJFD8cxgilsFxHMSPOI6Pj4/3zo6txtZzYsSJyWTS7XbhpggMy+LcXdeNoqjdbvu+j9RBxsc+Ln57sfWc2Pf9NE0PDw9brVaapgjEYjk+roNM/TzP+/1+WZa9Xm82mz1gl/doGI1to7h5CQoTK6XiAdBut2ezGVtKURSIxUjJBMVLJQcbY1DmIPQ0TUVkNptB8bigRSTLsk30sygKYj4143rv7rZx7/nZiDgRx3Gn08myzPO8TYubauVFS0O0gNEmSSIiQRDM5/N2u53nORRsGzQQi6WKnSen/+joSCqHSFP91NZms1mv15vP53meY9jeQ9abn8aIGPsrJlu2eMIVNq31wzvb7XaapmR9DgaDyWQC6yWeOMsytbgxR1K9aUVRHBwclGU5m82oCaQZ0e12G0dgI/1EBBeRIAhGoxHbxQPMz7ZgnflpjIizLOt0OgQkpGmaJEkQBA/jzjXGwD4dx4nj+OjoCMputVpZlqVpCiEqz07TtCxLhA1YLzl2xhgoW65FFK0Px3HoRpZlxB6JyN5TqFhnfpoUJ4IgQLWCBcqDBJvry5rnORUkkiRBrhCRKIp6vd50OoWnQtDKmHULg1g3SsS2wWTbLUKbwDrz0ySFpWk6GAy0N7aDd3PwPO/8/JxINAjX87w0TaMoiqLo4OBgNpsRFTSZTIjJxKyWpmkQBC9evEDk4K1TX0mWZXhDmuqn67qu63qe12q1kiShiJbqwXusMz+NceIoit57772LiwsROTk5efXq1YNFI6CoqbAL+0e2IdKy0+mkafr69euDgwOSQ9vtNntWEASTyWQwGGAt3pxiZzP1PSe+jnXmp0lxwnGco6Mj7CPYsx5AIIYi4zgOw5DHQXzz+bzX65HtLCLdbhdJHe0TkZ37VXvTomwN6nMKx3GCIMjzXBl/nucNviTbjnXmZ+l2v7CT5nmOrK1EP5/P4fn8W5Zlt9tVC5+I4EFQ4Vjb0do8N4JLeZ5rs1JrL0S67XQ6+sIw8iAIqPTj+34QBARIqAoMxZO8hJQsIq7r0tqGAoPsPCjP81RrcV3X9300m1artcBWiHimFOIjusehLeSxfr/PriWWZ4DPDBCbJvzCcZzBYICEUP+IZfOzEksnhYUktmY6nWJYFZFut0vP+v3+kydPeNJ4PM7zHEs1+cNJkqAheZ4Xx7HOPqule/d1cElFEdd14zi+hx3Ktj8wCt/3e73e4eEhJIvHbjwey8ao9jaIoggvY6/Xy/Octxezv9JHkiSe5x0cHDyiHOJ5Xp7nrKPt4IRlwA6CIKBKWBAEWZb1+30RabVa0+mUtdhU55ZxRGPMv//+y4fJZJIkSb/fh5iQLLWFfr+PhfW9997TAfPDKIrSNFWfmf6khmjsS/wE4bWmn8vAq6VzZ7/ZbFhRFHEnbGajkP+mABpjEHWMMaPRSAtfII7bv4IU1H7yiGC60N11dXAq6T1a5w5eJiLEdoM4jpc1XjM/K7F0Xlj+yWSiXVcKgE0eHh7KtbIjnuf1+/1+vx/HMeNBtdIxQ0k1sjKXuI2foJ/dcjzXh0CQMQyDVI4nT57QrH3bplG/SEoW+t4yb1Aw7IOQ/8fCeDw2xuAExZIASeglY8z5+Tkf5L88S++pocuNELHdhFSVGTqdDlMJgRpjLi8vEcmZa5XE9eePRcSIEGA0GpnqeA7FYDDQG+7H6e+EZYuku4G98JhQoBXtMGrJpvtZg4uLC/qpuyUOWmMMHgpjzHQ6TZKEqT46OiLMlZFqVbEbsQ4RL5WJeedUzMVuFcfx5eXlcDjEmDWbzY6Ojsqy5OQLikTZryBc0CZZpPsa6xuXbCUA9/Wy+5eh3W5TsJUYt9FohI8jDEO42nw+x8MnjyoTdzqdOI7ZZzV+Q0R838fi3u/3ycpGKn2sfopVLRel4uTkxBhDZLbv+9PpdDqd9no9bO0YKy8vL/M8Z0Q6tI30rB4i4vs+G7H9vW4ir169Msaom0A9XqbicMpsFDWc9fql6z+/DTRqAmmBnU6tEPbYKT14j0fcCbKE06hASbSJVK8xE669teXORwF7Ly+bXFMwbHAVeuj1esYShSeTybL2l83PbVBnJ8bgSroEGjRNu667EBdmjHFdF/YG1zSVC1dD1FkMmmIbuvGhXCqKgrXkh/cLlCF3Y8H1XZYlmv7Lly+NMQ8WRwYfMhUzE6vCix3u5ziOhvbjwWI3ExFNz34sqE3JVL5YzIJXV1eIlEy4BgYGQXB+fo5Yb2eO3Yia+VmJpeKEMQZ3gBp9oHp6z6UF2SiKIlt4ULVU24QWV/aMhbRFiJo3TUTSNLX32dlsxr9Qg+u6l5eXUhmGIJeLiwvXdXu9HsIcUjtTr3iwvdtYsdfITppsopdwoa9sSoegI0Iw01OkpBIR9dFSKTALlxaQZZmyIW5mfal/gHkKbS+OY9R9/E10IAxDXSY1HbIiDcSdL2PROjD7znoOz222MUjv19CkW24QerNqDMtAODz3q00NsAUjjYxGo9PTU6m2CG5Q8xBP4e9sNtNu12x/d4UsFyfQQcuyvLq6MlXYvlSSuqmU1NlsViNUqPrLX2aDS8h7KpW5rquKOA/SQvn1QxiPx8PhkGdBpipUcIP92nOJ7+m/LRZGUaRqQP383AYbJ2LmnR6r2a6oBaTDzfywfvGMZS0xxhRFoZSdZRmkyaRnWUaDf//9t/Jg7uRxuvB2g42gZpGiKNIBsvZU7JRKwbi9VqD9Z5hpmvJi6IQoq8ZC6rouu3wYhmQfLmvZNjeZKlRS3wG1PIgISbtSufEXVpNH2JYK9SS8uUTMB9/39a09OTlxa6GzQDrnyjEoBdi2dBgqM67Hid44zNlsZmuT6uKhgPHKp98S9YukCylWJB2Aa65sH7+uMUbDD4hN5erV1RVR1DwlDMMFA5Fy/WUYj8dFUWQVYLo4buUmC5IWsjHGFEUxHo+vb6qXl5fGsty9uUSs2W8i4vu+7TSpwWAw0Fk2FiO5ESyeGqryPFdqthtRMGvMoN2I2lUIFap54j2wbJHgTHRGqi3+4OCg2+2idHa73ePj47Ozs5X8WF+5+Xx+3UxuKrJWNbfX60G7cGURgW3XAHFCR8T7Bjs3xsDO4UGmEsaIWrE7aQtsK+fnNnggTqz1rlkYnbXr4JIaDWyn5Y3QCVIBgInWyCS+nM/nKtuoaK6bWhRFWsnKngGbFNZEzSLBorikAjExFfrvynkA+NJ5E4wlhsIFbpTN0jS95TCVlYzHYxrxPO/Zs2c6KHsdlY8w2zxCmTFjz7Ls77//NpWQ8+YSMdSjKyEib7/99jIKBtygdF9PTAvKIlxHQ4H5kswOY00iTEtFNEDIBzuvrRg1gppFInoGvZOBo+yLSBiGvM9YWmp2pLIsGQvSv0oU2DrsJ+pfzAU2m6wfsu5dTOOCMUcspyxC4HQ6pUs27+C3SZLoc9X2/EYTMZ91s1upM+kN9v5Y/xN79mezmc1TtbUFCtbvlTPJNRWqQTfvskWyQ5REhFxX7ZL+ZKXMaqqNZYHB25Ix39wo6K+0AqkZh3m77i1vtVoaH5YkiQ4BtgKlllWagkqAarnbCBEX1blDOoNMN53TXdimSG6zifhhYmsUcRxrqF0NIHF6uxCfoH2ez+cr1/VOWLZIOMPpkuM4pJxAIhoRphZi7PF8j75Bb9UEoQ6plVadu0L3Lv7VlaVjmqrIZNa8/Ix6Pp/TN2U3GyFixABjDP1DVOUSTg1j2U10Z1FnIycX3bITa0I3WdXra2RuO+y93++rSUtETk9P//nnH7vlB7ATq9SkJeG4yuZD4i03cCenoxqLQNnl1Tqhu1ZN3OM9YNuhefRoNFrwU2gEeU070Axd5d3Lsmw4HG6EiAHh8DTd6/WSJNGRLMzR4eGhdoI8k3qTQrNgNtvtthrwa2Anvaibt9/vq8xHkqlpNM542SLRH9uKct3VIv+1uymZ0kl7xyiKAj7NWJqNelNBdsFmzLundiezageAMOib9nAjRAyNskO98847tM5LtrDAZ2dnOsVqgNRh37If6+Di4sIOQ1MN6Ua0Wi2NgR4MBhA0fT47O7ObXWlvuhNWLpKKMbYCUJbl8+fP+X5hW1CplFMldYBkEza+DfI4NUWfn5/TYVzHUHCv13Mc58WLFzXtKO9TuRTOuBEitpfQpoAF2zvRd1xlEw+CgPMPzYPIxEwrhVqA7RO6DkhEY7TZy+x9HAsd6YMN9nPZImkCGB4EFcOUZO21VEO42mv5uVTGWoKl9DVo0MCis/Hnn3/a36jPr9vtItCbW6iJtl1IVdtNiRNKymLtwguakxIxITXajyzLHkwsVl1HDfs10EHxpvV6Pd4BNcvrBvJgHrsFhYm/WZYtsFvb2oNqbxuq2GH0m9tMxZ1guzDhCMq8NKgNR1IN0Jg7nY5qq3y5ESK2tyS15JF2K5UtUJUSosvtPd1cc4ltCDdK3lEULePExuJPtgXGbk1Jp0FmvGyRMNaaynBrKqOYkvX1taSTujqTySTPc5w7b7/9tnp6zSpP570HAkcjAVuVOanC5Jn8lS1IJZ3CU9Yh4rp4YmJAKcJgjCE4kDywoiio4SeVWYroiCzLqPlQ02zjIHCZlGDt6spfUWzFPjpJXbJ8SYJQUyVglsXLaiEBrupRDDrh/ByjBBs3/aQgflGdTgI9PX/+nJA0LerVSOf1oeQwk0BO6VERgR5ardZwOLyNYk1TJPTPZrMwDOfzOUUUrs/PbfpWV8eAKbOtv3iSVAXRF0tziky1F9/m2U0BZhCGod1VdTuTlE+2la0AIfnYy6w/4QN1sXhRJ5MJl9YJMvY8T/cujQLT0luEwGv/dcLVks1y8GpFURSGoVIwHU7T9Pj4mM8LPG99kJxGhoT6DXi6cjRyIGRVXWGVM8uyDMOwLEsk1Rvn51Z9u/eo3nB4njebzeI4Pjg4GA6HLHm9H4QaK0mSUDoI0mGdKP8hIo7j8OGuCMMQvY0Ch1Qhue65XQmUp263C+nYOYKa1M03jZfc7HQ6KJTT6bTb7VIcTKoQbabX87x///23fp5d16W6gzFmMpmQKLTO/Gz9mR0robtwmqa+7y8rooNMYgtnyFEUOhoMBpoddL9D7/StoD/UE7lHOzydzGdNoFATJwx4PB5jKWr2nEmVfKDRq6srdSq9fv366dOnUg2zRhIgP42pwIFi56HJveZnZzlxnucIEmEYanm4mjJQbGRIrtyPCBEEwWAwsLODtBjSneC6LpRH1GK/3/d9v7x7Zs4CBY/H4yAIOp2O0pMxhs/ws7u2XwNsuroXYRtmrqBgEaEgdH1JBsdxiPpHAeD7deZnxzmxBnIoA1v2crNCdk03gBkLEucgBZXb7gSbOaFOkKR4j/JqxOgxloVDraFpYjCkUU5sC2P6+eLi4vT0NIoiClipbl3fFPPQ7XZxlCCc2An9d52fXSZiJoX9iyCElbFBajF4+fLlu+++C1mfnp7+/vvvHNAkVZTjXSUBspf57TplLlTgybKMwnZ8v5BOTAG7ZjkxIc5afO26IUKJm7TnGxtBLzw5OUG8lupNW2d+dpaIi6o2aJ7n0+mUIi9iFZ1YgJ5GQ9USqchCeXlhHY+3ZnXKsiw1veceBI12D8kOh8OTkxPMhVpOXKs53khqa6KoDh6GNbC/YTPGNqWTVgNVMLQojM0U7jo/O0vEIkKNH7jRyroHZVnCgyECCsKWVaUFdkw9SOJ+BYzV8KxrVq5xHITSAZ1BMS2rqiCNH5iCRczzvGW1x/WAeKwKNUIXZczxZdjBxPeen10gYvYjDQpTmQEXHbZelRGXER8rJJURQ+tjsCpaT6NZytijEWy9dcJUJyDhLIBViAhFkX3fHw6H6tM6OjryluPs7ExEcDr2er3Ly8sNncq4R7PYBU4M2IOiKHr27Blh0JqACSeGype53ND/VNnHi86hHntO/IZj6zmxFq1CFnz27BlBjBq7I5VXtqzqB9wI13VHoxEqC0XlpNEjwPbYHHaEE8dx7Ps+lfWphWonYNraxrLxEm2Dt0m1e6mM83tO/CZj6zmxiBRF0el01Chj10gmGslxnOFwaPvkrkMqw5mGF5Jk8Wij2uPW2AUixvNJteper/fWW29pLCjugKIoTk5OlpEvgF7TND0/PxcRihbvj+jaCmy9OIE+p2ZgAlsRCexT2zkft9vtLqteiseIz2oK1TjXvTjxJmPridh2oSFI6FmijbRPGAoN6qkwezp+o/BAJ9duDkQ/4WTudDrHx8fNFsdWHwreO5Iv1vG07dE4dmEliJwircA+0rQRcLCcWCdoyx3zDvbYNLZenJD/ShTS9HZP9MVoNEJKIeC1qcb3aAS7wInhkaYqX36/tJ9lMMacn5/D5rUQL3Us93hDsAtEDMlqAqP8N/1zTUyn08FgoDXRELgbj2/cYx3sAhE71fFvUJieo90I7KOVpTI874AMtkvYeiI2xoRhGMcxAdREtTdrAqPCg4hgBpFGTq3aozn8HzDQ0iNA2UNYAAAAAElFTkSuQmCC)"
      ],
      "metadata": {
        "id": "SaE3aY0JGByJ"
      }
    },
    {
      "cell_type": "markdown",
      "source": [
        "##p = 1 equivalent to using manhattan_distance (l1), and euclidean_distance (l2) for p = 2; default=2"
      ],
      "metadata": {
        "id": "2HC-qh3VLfMm"
      }
    },
    {
      "cell_type": "markdown",
      "source": [
        "##Manhattan_Distance"
      ],
      "metadata": {
        "id": "cd3DADq-Llzm"
      }
    },
    {
      "cell_type": "code",
      "source": [
        "from sklearn.neighbors import KNeighborsClassifier\n",
        "knn = KNeighborsClassifier(n_neighbors=5, p = 1)\n",
        "Res = knn.fit(X_train, Y_train)"
      ],
      "metadata": {
        "id": "jw-c_98mF6HO"
      },
      "execution_count": 84,
      "outputs": []
    },
    {
      "cell_type": "code",
      "source": [
        "Res.score(X_test, Y_test)"
      ],
      "metadata": {
        "colab": {
          "base_uri": "https://localhost:8080/"
        },
        "id": "3PWmCZMXLAH1",
        "outputId": "395c0c9d-d7a5-469f-897f-17fbf6bb8c0b"
      },
      "execution_count": 85,
      "outputs": [
        {
          "output_type": "execute_result",
          "data": {
            "text/plain": [
              "0.7906976744186046"
            ]
          },
          "metadata": {},
          "execution_count": 85
        }
      ]
    },
    {
      "cell_type": "markdown",
      "source": [
        "##Euclidean_Distance"
      ],
      "metadata": {
        "id": "qa9SA76ILrQ4"
      }
    },
    {
      "cell_type": "code",
      "source": [
        "from sklearn.neighbors import KNeighborsClassifier\n",
        "knn = KNeighborsClassifier(n_neighbors=5, p = 2)\n",
        "Res = knn.fit(X_train, Y_train)"
      ],
      "metadata": {
        "id": "AFu4HFrULBaL"
      },
      "execution_count": 86,
      "outputs": []
    },
    {
      "cell_type": "code",
      "source": [
        "Res.score(X_test, Y_test)"
      ],
      "metadata": {
        "colab": {
          "base_uri": "https://localhost:8080/"
        },
        "id": "kKECWIa8LEJB",
        "outputId": "367cbf21-b51b-4aff-9fb0-9ea809147c32"
      },
      "execution_count": 87,
      "outputs": [
        {
          "output_type": "execute_result",
          "data": {
            "text/plain": [
              "0.6976744186046512"
            ]
          },
          "metadata": {},
          "execution_count": 87
        }
      ]
    }
  ]
}